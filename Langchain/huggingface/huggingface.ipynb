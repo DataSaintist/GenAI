{
 "cells": [
  {
   "cell_type": "code",
   "execution_count": 1,
   "metadata": {},
   "outputs": [],
   "source": [
    "from langchain_community.document_loaders import PyPDFLoader, PyPDFDirectoryLoader\n",
    "from langchain.text_splitter import RecursiveCharacterTextSplitter\n",
    "from langchain_community.vectorstores import FAISS\n",
    "from langchain_community.embeddings import HuggingFaceBgeEmbeddings\n",
    "from langchain.prompts import PromptTemplate\n",
    "\n",
    "from langchain.chains import RetrievalQA\n"
   ]
  },
  {
   "cell_type": "code",
   "execution_count": 5,
   "metadata": {},
   "outputs": [
    {
     "data": {
      "text/plain": [
       "Document(page_content='Health Insurance Coverage Status and Type \\nby Geography: 2021 and 2022\\nAmerican Community Survey Briefs\\nACSBR-015Issued September 2023Douglas Conway and Breauna Branch\\nINTRODUCTION\\nDemographic shifts as well as economic and govern-\\nment policy changes can affect people’s access to health coverage. For example, between 2021 and 2022, the labor market continued to improve, which may have affected private coverage in the United States \\nduring that time.\\n1 Public policy changes included \\nthe renewal of the Public Health Emergency, which \\nallowed Medicaid enrollees to remain covered under the Continuous Enrollment Provision.\\n2 The American \\nRescue Plan (ARP) enhanced Marketplace premium subsidies for those with incomes above 400 percent of the poverty level as well as for unemployed people.\\n3', metadata={'source': 'us_census/acsbr-015.pdf', 'page': 0})"
      ]
     },
     "execution_count": 5,
     "metadata": {},
     "output_type": "execute_result"
    }
   ],
   "source": [
    "# Read PDFs from folder\n",
    "\n",
    "loader = PyPDFDirectoryLoader(\"./us_census\")\n",
    "\n",
    "documents=loader.load()\n",
    "\n",
    "text_splitter = RecursiveCharacterTextSplitter(chunk_size=1000,chunk_overlap=200)\n",
    "\n",
    "final_documents=text_splitter.split_documents(documents)\n",
    "final_documents[0]"
   ]
  },
  {
   "cell_type": "code",
   "execution_count": 6,
   "metadata": {},
   "outputs": [
    {
     "data": {
      "text/plain": [
       "316"
      ]
     },
     "execution_count": 6,
     "metadata": {},
     "output_type": "execute_result"
    }
   ],
   "source": [
    "len(final_documents)"
   ]
  },
  {
   "cell_type": "code",
   "execution_count": 9,
   "metadata": {},
   "outputs": [
    {
     "name": "stderr",
     "output_type": "stream",
     "text": [
      "/Users/naidubuddha/Documents/Study/Material/AI/Langchain/venv/lib/python3.11/site-packages/tqdm/auto.py:21: TqdmWarning: IProgress not found. Please update jupyter and ipywidgets. See https://ipywidgets.readthedocs.io/en/stable/user_install.html\n",
      "  from .autonotebook import tqdm as notebook_tqdm\n",
      "/Users/naidubuddha/Documents/Study/Material/AI/Langchain/venv/lib/python3.11/site-packages/huggingface_hub/file_download.py:1132: FutureWarning: `resume_download` is deprecated and will be removed in version 1.0.0. Downloads always resume when possible. If you want to force a new download, use `force_download=True`.\n",
      "  warnings.warn(\n"
     ]
    }
   ],
   "source": [
    "## Embedding Using Huggingface\n",
    "huggingface_embeddings=HuggingFaceBgeEmbeddings(\n",
    "    model_name=\"BAAI/bge-small-en-v1.5\",      #sentence-transformers/all-MiniLM-l6-v2\n",
    "    model_kwargs={'device':'cpu'},\n",
    "    encode_kwargs={'normalize_embeddings':True}\n",
    "\n",
    ")"
   ]
  },
  {
   "cell_type": "code",
   "execution_count": 10,
   "metadata": {},
   "outputs": [
    {
     "name": "stdout",
     "output_type": "stream",
     "text": [
      "[-8.46568868e-02 -1.19099263e-02 -3.37892622e-02  2.94559356e-02\n",
      "  5.19160032e-02  5.73839881e-02 -4.10017408e-02  2.74268165e-02\n",
      " -1.05128214e-01 -1.58056282e-02  7.94858932e-02  5.64318709e-02\n",
      " -1.31765446e-02 -3.41544151e-02  5.81606664e-03  4.72547673e-02\n",
      " -1.30746923e-02  3.12990579e-03 -3.44225839e-02  3.08406670e-02\n",
      " -4.09086235e-02  3.52737978e-02 -2.43761763e-02 -4.35831659e-02\n",
      "  2.41503306e-02  1.31986700e-02 -4.84451279e-03  1.92347877e-02\n",
      " -5.43912686e-02 -1.42735034e-01  5.15527977e-03  2.93115955e-02\n",
      " -5.60811013e-02 -8.53538141e-03  3.14141437e-02  2.76736636e-02\n",
      " -2.06188280e-02  8.24231878e-02  4.15425226e-02  5.79655133e-02\n",
      " -3.71587165e-02  6.26162812e-03 -2.41390280e-02 -5.61794313e-03\n",
      " -2.51715407e-02  5.04972460e-03 -2.52801143e-02 -2.91946088e-03\n",
      " -8.24048463e-03 -5.69604449e-02  2.30822582e-02 -5.54220192e-03\n",
      "  5.11555597e-02  6.09937720e-02  6.49765879e-02 -5.38514070e-02\n",
      "  2.19109841e-02 -2.54194103e-02 -4.49223146e-02  4.22458798e-02\n",
      "  4.75251898e-02  7.23242410e-04 -2.61084527e-01  9.30173174e-02\n",
      "  1.13597624e-02  4.90668975e-02 -1.06286937e-02 -8.08730163e-03\n",
      " -1.53562110e-02 -5.33785746e-02 -6.89967051e-02  4.75178324e-02\n",
      " -5.68595864e-02  9.38640814e-03  4.24066111e-02  2.54346430e-02\n",
      "  9.67094488e-03  7.90798664e-03  2.25161146e-02  1.91005366e-03\n",
      "  3.06091774e-02  2.43991800e-02 -1.34115340e-02 -4.77401130e-02\n",
      "  4.89939786e-02 -9.49416459e-02  5.62893823e-02 -4.76260632e-02\n",
      "  2.81447303e-02 -2.54329387e-02 -3.84951606e-02  1.00939721e-02\n",
      "  1.90601640e-04  3.36625464e-02  1.00181960e-02  2.83523966e-02\n",
      " -2.68968008e-03 -6.96364557e-03 -3.54914628e-02  3.42758894e-01\n",
      " -1.94496419e-02  1.43988309e-02 -5.68814669e-03  1.71481185e-02\n",
      " -2.88608228e-03 -5.81653155e-02  6.35184464e-04  5.17299818e-03\n",
      "  2.06331220e-02  1.65708140e-02  2.15096474e-02 -2.38796137e-02\n",
      "  2.89275330e-02  4.67318930e-02 -3.56104970e-02 -1.05079012e-02\n",
      "  3.70704718e-02  1.57502480e-02  9.43095759e-02 -2.50715241e-02\n",
      " -9.55964718e-03  1.78565793e-02 -9.41778254e-03 -4.57858630e-02\n",
      "  1.82930455e-02  5.81431612e-02  4.94311377e-02  1.46350697e-01\n",
      "  2.16057654e-02 -3.92896123e-02  1.03241272e-01 -3.48300040e-02\n",
      " -6.61872467e-03  7.07987882e-03  9.26984067e-04  4.49868152e-03\n",
      " -2.89777722e-02  4.02418971e-02 -5.23191411e-03  4.59961928e-02\n",
      "  4.23973706e-03 -4.83794697e-03 -3.23240808e-03 -1.41072914e-01\n",
      " -3.76811326e-02  1.83623910e-01 -2.96609458e-02  4.90660220e-02\n",
      "  3.90551724e-02 -1.57757606e-02 -3.86351161e-02  4.65631150e-02\n",
      " -2.43485868e-02  3.57695408e-02 -3.54947820e-02  2.36265752e-02\n",
      " -3.41980747e-04  3.11703589e-02 -2.39356309e-02 -5.94757833e-02\n",
      "  6.06259182e-02 -3.81902270e-02 -7.04255328e-02  1.42479828e-02\n",
      "  3.34432013e-02 -3.85254659e-02 -1.71951260e-02 -7.12288693e-02\n",
      "  2.64976248e-02  1.09495874e-02  1.32650565e-02  3.89528126e-02\n",
      "  1.60355549e-02 -3.17630358e-02  1.02013700e-01  2.92912312e-02\n",
      " -2.29205508e-02 -8.38054996e-03 -1.72172617e-02 -6.78820536e-02\n",
      "  5.39418263e-03 -2.32347287e-02 -6.07407056e-02 -3.86575572e-02\n",
      " -1.54306507e-02 -3.84983607e-02 -5.02867773e-02  5.04235290e-02\n",
      "  4.94898148e-02 -1.41083365e-02 -2.98146973e-03  9.76521333e-05\n",
      " -6.59190491e-02  3.01006716e-02 -5.46591706e-04 -1.64787695e-02\n",
      " -5.21614663e-02 -3.30224191e-03  4.75748330e-02 -3.40808630e-02\n",
      " -2.98660006e-02  2.75014844e-02  5.90205565e-03 -2.64038169e-03\n",
      " -1.61242895e-02  2.05222834e-02  1.21104848e-02 -5.49782068e-02\n",
      "  5.10389470e-02 -7.92091899e-03  7.25203101e-03  3.51751186e-02\n",
      "  3.66276950e-02  5.67731622e-04  2.60788687e-02  2.50971168e-02\n",
      "  1.14480937e-02 -2.54925042e-02  1.96417868e-02  2.84220111e-02\n",
      "  2.82554254e-02  6.57489970e-02  9.26554054e-02 -2.68629700e-01\n",
      " -8.90560856e-04  3.16918013e-03  5.08356141e-03 -6.42100945e-02\n",
      " -4.56615090e-02 -4.62259725e-02  3.60924937e-02  8.29055160e-03\n",
      "  8.92349109e-02  5.68021797e-02  6.91059744e-03 -1.08684162e-02\n",
      "  9.36060548e-02  1.03680538e-02 -8.60929862e-02  1.77332014e-02\n",
      " -2.00802721e-02 -1.85124967e-02  5.62421512e-04 -9.38335992e-03\n",
      "  7.76059972e-03 -5.37273884e-02 -2.30028536e-02  7.48890713e-02\n",
      " -1.29693039e-02  6.53716847e-02 -4.24983278e-02 -7.10293725e-02\n",
      " -1.56803783e-02 -6.23028539e-02  5.36034517e-02 -6.53215591e-03\n",
      " -1.15985498e-01  6.70968220e-02  1.93366837e-02 -6.67827800e-02\n",
      " -2.01753411e-03 -6.27637058e-02 -2.95005236e-02 -2.71986276e-02\n",
      "  4.49796654e-02 -6.61587045e-02  2.13751029e-02 -2.94077657e-02\n",
      " -5.71503229e-02  4.05282713e-02  7.11039305e-02 -6.80165589e-02\n",
      "  2.11908873e-02  1.30515415e-02 -2.91152764e-02 -2.25581583e-02\n",
      " -1.60188694e-02  3.20554003e-02 -5.89460470e-02 -2.97131874e-02\n",
      "  3.42681669e-02 -1.58376303e-02 -9.31772217e-03  3.59834917e-02\n",
      "  3.65340803e-03  4.73320037e-02 -1.06235361e-02 -8.69735144e-03\n",
      " -4.38009650e-02  5.94554283e-03 -2.41493732e-02 -7.79941082e-02\n",
      "  1.46542620e-02  1.05614020e-02  5.45365512e-02 -3.17896903e-02\n",
      " -1.26763135e-02  7.92560540e-03 -1.38133001e-02  5.01396880e-02\n",
      " -7.28574628e-03 -5.23702893e-03 -5.32640740e-02  4.78208512e-02\n",
      " -5.38353845e-02  1.11437244e-02  3.96674313e-02 -1.93496644e-02\n",
      "  9.94824339e-03 -3.53477709e-03  3.58560565e-03 -9.61498916e-03\n",
      "  2.15323884e-02 -1.82350557e-02 -2.15188619e-02 -1.38835758e-02\n",
      " -1.76699162e-02  3.37970647e-04 -3.84840328e-04 -2.25800544e-01\n",
      "  4.51243147e-02  1.53377336e-02 -1.76967345e-02 -1.42526068e-02\n",
      " -7.00281886e-03 -3.13725099e-02  2.13672058e-03 -9.28343646e-03\n",
      " -1.66986994e-02  4.66264412e-02  7.71809742e-02  1.26697004e-01\n",
      " -1.83595456e-02 -1.39636891e-02 -1.23303267e-03  5.93339279e-02\n",
      " -1.37461233e-03  1.98233593e-02 -2.92635877e-02  4.96656969e-02\n",
      " -6.07207455e-02  1.53544784e-01 -4.67309244e-02  1.97029058e-02\n",
      " -7.67833516e-02 -7.73230940e-03  3.71618904e-02 -3.00591029e-02\n",
      "  8.30264948e-03  2.06259172e-02  1.97464577e-03  3.39764245e-02\n",
      " -1.70869734e-02  4.84796092e-02  1.20781856e-02  1.24999126e-02\n",
      "  5.61724380e-02  9.88544151e-03  2.13879123e-02 -4.25293483e-02\n",
      " -1.94037016e-02  2.47837882e-02  1.37260491e-02  6.41119704e-02\n",
      " -2.84481030e-02 -4.64116707e-02 -5.36255576e-02 -6.95252165e-05\n",
      "  6.45710304e-02 -4.32018976e-04 -1.32470429e-02  5.85134374e-03\n",
      "  1.48595776e-02 -5.41847609e-02 -2.02038735e-02 -5.98262697e-02\n",
      "  3.67028974e-02  1.43322116e-03 -8.64464603e-03  2.90671661e-02\n",
      "  4.38365936e-02 -7.64942914e-02  1.55717889e-02  6.65831119e-02]\n",
      "(384,)\n"
     ]
    }
   ],
   "source": [
    "import  numpy as np\n",
    "print(np.array(huggingface_embeddings.embed_query(final_documents[0].page_content)))\n",
    "print(np.array(huggingface_embeddings.embed_query(final_documents[0].page_content)).shape)"
   ]
  },
  {
   "cell_type": "code",
   "execution_count": 11,
   "metadata": {},
   "outputs": [],
   "source": [
    "## VectorStore Creation\n",
    "vectorstore=FAISS.from_documents(final_documents[:120],huggingface_embeddings)"
   ]
  },
  {
   "cell_type": "code",
   "execution_count": 12,
   "metadata": {},
   "outputs": [
    {
     "name": "stdout",
     "output_type": "stream",
     "text": [
      "2 U.S. Census Bureau\n",
      "WHAT IS HEALTH INSURANCE COVERAGE?\n",
      "This brief presents state-level estimates of health insurance coverage \n",
      "using data from the American Community Survey (ACS). The  \n",
      "U.S. Census Bureau conducts the ACS throughout the year; the \n",
      "survey asks respondents to report their coverage at the time of \n",
      "interview. The resulting measure of health insurance coverage, \n",
      "therefore, reflects an annual average of current comprehensive \n",
      "health insurance coverage status.* This uninsured rate measures a \n",
      "different concept than the measure based on the Current Population \n",
      "Survey Annual Social and Economic Supplement (CPS ASEC). \n",
      "For reporting purposes, the ACS broadly classifies health insurance \n",
      "coverage as private insurance or public insurance. The ACS defines \n",
      "private health insurance as a plan provided through an employer \n",
      "or a union, coverage purchased directly by an individual from an \n",
      "insurance company or through an exchange (such as healthcare.\n"
     ]
    }
   ],
   "source": [
    "## Query using Similarity Search\n",
    "query=\"WHAT IS HEALTH INSURANCE COVERAGE?\"\n",
    "relevant_docments=vectorstore.similarity_search(query)\n",
    "\n",
    "print(relevant_docments[0].page_content)"
   ]
  },
  {
   "cell_type": "code",
   "execution_count": 13,
   "metadata": {},
   "outputs": [
    {
     "name": "stdout",
     "output_type": "stream",
     "text": [
      "tags=['FAISS', 'HuggingFaceBgeEmbeddings'] vectorstore=<langchain_community.vectorstores.faiss.FAISS object at 0x14d95b3d0> search_kwargs={'k': 3}\n"
     ]
    }
   ],
   "source": [
    "retriever=vectorstore.as_retriever(search_type=\"similarity\",search_kwargs={\"k\":3})\n",
    "print(retriever)"
   ]
  },
  {
   "cell_type": "code",
   "execution_count": 1,
   "metadata": {},
   "outputs": [],
   "source": [
    "import os\n",
    "from dotenv import load_dotenv\n",
    "load_dotenv()\n",
    "\n",
    "os.environ['HUGGINGFACEHUB_API_TOKEN']=os.getenv(\"huggingface_key\")"
   ]
  },
  {
   "cell_type": "code",
   "execution_count": null,
   "metadata": {},
   "outputs": [],
   "source": [
    "from langchain_community.llms import HuggingFaceHub\n",
    "\n",
    "hf=HuggingFaceHub(\n",
    "    repo_id=\"mistralai/Mistral-7B-v0.1\",\n",
    "    model_kwargs={\"temperature\":0.1,\"max_length\":500}\n",
    "\n",
    ")\n",
    "query=\"What is the health insurance coverage?\"\n",
    "hf.invoke(query)"
   ]
  },
  {
   "cell_type": "code",
   "execution_count": null,
   "metadata": {},
   "outputs": [],
   "source": [
    "#Hugging Face models can be run locally through the HuggingFacePipeline class.\n",
    "from langchain_community.llms.huggingface_pipeline import HuggingFacePipeline\n",
    "\n",
    "hf = HuggingFacePipeline.from_model_id(\n",
    "    model_id=\"mistralai/Mistral-7B-v0.1\",\n",
    "    task=\"text-generation\",\n",
    "    pipeline_kwargs={\"temperature\": 0, \"max_new_tokens\": 300}\n",
    ")\n",
    "\n",
    "llm = hf \n",
    "llm.invoke(query)\n"
   ]
  },
  {
   "cell_type": "code",
   "execution_count": null,
   "metadata": {},
   "outputs": [],
   "source": [
    "prompt_template=\"\"\"\n",
    "Use the following piece of context to answer the question asked.\n",
    "Please try to provide the answer only based on the context\n",
    "\n",
    "{context}\n",
    "Question:{question}\n",
    "\n",
    "Helpful Answers:\n",
    " \"\"\""
   ]
  },
  {
   "cell_type": "code",
   "execution_count": null,
   "metadata": {},
   "outputs": [],
   "source": [
    "prompt=PromptTemplate(template=prompt_template,input_variables=[\"context\",\"question\"])"
   ]
  },
  {
   "cell_type": "code",
   "execution_count": null,
   "metadata": {},
   "outputs": [],
   "source": [
    "\n",
    "\n",
    "retrievalQA=RetrievalQA.from_chain_type(\n",
    "    llm=hf,\n",
    "    chain_type=\"stuff\",\n",
    "    retriever=retriever,\n",
    "    return_source_documents=True,\n",
    "    chain_type_kwargs={\"prompt\":prompt}\n",
    ")\n",
    "\n"
   ]
  },
  {
   "cell_type": "code",
   "execution_count": null,
   "metadata": {},
   "outputs": [],
   "source": [
    "query=\"\"\"DIFFERENCES IN THE\n",
    "UNINSURED RATE BY STATE\n",
    "IN 2022\"\"\""
   ]
  },
  {
   "cell_type": "code",
   "execution_count": null,
   "metadata": {},
   "outputs": [],
   "source": [
    "# Call the QA chain with our query.\n",
    "result = retrievalQA.invoke({\"query\": query})\n",
    "print(result['result'])"
   ]
  },
  {
   "cell_type": "code",
   "execution_count": null,
   "metadata": {},
   "outputs": [],
   "source": []
  }
 ],
 "metadata": {
  "kernelspec": {
   "display_name": "Python 3",
   "language": "python",
   "name": "python3"
  },
  "language_info": {
   "codemirror_mode": {
    "name": "ipython",
    "version": 3
   },
   "file_extension": ".py",
   "mimetype": "text/x-python",
   "name": "python",
   "nbconvert_exporter": "python",
   "pygments_lexer": "ipython3",
   "version": "3.11.9"
  }
 },
 "nbformat": 4,
 "nbformat_minor": 2
}
